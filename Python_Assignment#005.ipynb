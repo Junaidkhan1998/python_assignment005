{
 "cells": [
  {
   "cell_type": "code",
   "execution_count": 1,
   "metadata": {},
   "outputs": [
    {
     "name": "stdout",
     "output_type": "stream",
     "text": [
      "Enter any number to calculate the number of factorial: 8\n",
      "40320\n"
     ]
    }
   ],
   "source": [
    "def factorial(num):\n",
    "     if num == 0 :\n",
    "        return 1\n",
    "     else :\n",
    "        return num * factorial(num-1)\n",
    "         \n",
    "num = int(input(\"Enter any number to calculate the number of factorial: \"))\n",
    "print(factorial(num))\n",
    "        \n",
    "    "
   ]
  },
  {
   "cell_type": "code",
   "execution_count": 2,
   "metadata": {},
   "outputs": [
    {
     "name": "stdout",
     "output_type": "stream",
     "text": [
      "2 13\n",
      "3 17\n"
     ]
    }
   ],
   "source": [
    "def count_upper_lower(string):\n",
    "    uppercase_letter_count = 0\n",
    "    lowercase_letter_count = 0\n",
    "    \n",
    "    for letter in string:\n",
    "        if letter.isupper():\n",
    "            uppercase_letter_count += 1\n",
    "        elif letter.islower():\n",
    "            lowercase_letter_count += 1\n",
    "               \n",
    "    print(uppercase_letter_count,lowercase_letter_count)\n",
    "            \n",
    "count_upper_lower(\"Welcome to my Home!\")\n",
    "count_upper_lower(\"Please!Come in my Friend\")\n",
    "            \n",
    "            "
   ]
  },
  {
   "cell_type": "code",
   "execution_count": 16,
   "metadata": {},
   "outputs": [
    {
     "name": "stdout",
     "output_type": "stream",
     "text": [
      "4 2 44 212 None\n"
     ]
    }
   ],
   "source": [
    "List = [1,7,9,4,2,99,44,212]\n",
    "def func(num):\n",
    "    List = [1,7,9,4,2,99,44,212]\n",
    "    for num in List:\n",
    "        if num % 2==0:\n",
    "            print(num, end = \" \")\n",
    "print(func(List))  "
   ]
  },
  {
   "cell_type": "code",
   "execution_count": 8,
   "metadata": {},
   "outputs": [
    {
     "name": "stdout",
     "output_type": "stream",
     "text": [
      "Enter any string: MadAm\n",
      "string: mAdaM\n",
      "It`s not palindrome string\n",
      " \n"
     ]
    }
   ],
   "source": [
    "def isPalindrome(string):\n",
    "    if(len(string)==0):\n",
    "        return string\n",
    "    else:\n",
    "        return isPalindrome(string[1 : ]) + string[0]\n",
    "    \n",
    "Usercommand = input(\"Enter any string: \")\n",
    "string = isPalindrome(Usercommand)\n",
    "print(\"string:\",string)\n",
    "\n",
    "\n",
    "if(Usercommand==string):\n",
    "    print(\"It`s Palindrome string\\n\")\n",
    "    \n",
    "else:\n",
    "    print(\"It`s not palindrome string\\n \")\n",
    "    \n",
    "    "
   ]
  },
  {
   "cell_type": "code",
   "execution_count": 17,
   "metadata": {},
   "outputs": [
    {
     "name": "stdout",
     "output_type": "stream",
     "text": [
      "Enter any number:6\n",
      "not prime number\n"
     ]
    }
   ],
   "source": [
    "def func(num):\n",
    "    num = int(input(\"Enter any number:\"))\n",
    "    if num==1:\n",
    "        return (\"not prime number\")\n",
    "    elif num==2:\n",
    "        return (\"prime number\")\n",
    "    else:\n",
    "        for i in range(2,num):\n",
    "            if num % i == 0:\n",
    "                return (\"not prime number\")\n",
    "            return (\"prime  number\")\n",
    "print(func(num))        "
   ]
  },
  {
   "cell_type": "code",
   "execution_count": 3,
   "metadata": {},
   "outputs": [
    {
     "name": "stdout",
     "output_type": "stream",
     "text": [
      "\n",
      "-----------------------\n",
      " your shopping list is\n",
      "-----------------------\n",
      "\n",
      "Rice\n",
      "Flour\n",
      "Meal\n",
      "Fruits\n",
      "Vegetables\n",
      "Salt\n",
      "Medicines\n",
      "\n",
      "---------------------------------------\n",
      "Thanks for coming\n",
      "---------------------------------------\n",
      "\n"
     ]
    }
   ],
   "source": [
    "def func(first_item,second_item,third_item,fourth_item,*parameters):\n",
    "    items = first_item + \"\\n\" + second_item + \"\\n\" + third_item + \"\\n\" + fourth_item\n",
    "    print(items)\n",
    "    \n",
    "    for parameter in parameters:\n",
    "        print(parameter)\n",
    "        \n",
    "print(\"\\n-----------------------\\n your shopping list is\\n-----------------------\\n\") \n",
    "\n",
    "func(\"Rice\",\"Flour\",\"Meal\",\"Fruits\",\"Vegetables\",\"Salt\",\"Medicines\")\n",
    "print(\"\\n---------------------------------------\\nThanks for coming\\n---------------------------------------\\n\")\n"
   ]
  },
  {
   "cell_type": "code",
   "execution_count": null,
   "metadata": {},
   "outputs": [],
   "source": []
  }
 ],
 "metadata": {
  "kernelspec": {
   "display_name": "Python 3",
   "language": "python",
   "name": "python3"
  },
  "language_info": {
   "codemirror_mode": {
    "name": "ipython",
    "version": 3
   },
   "file_extension": ".py",
   "mimetype": "text/x-python",
   "name": "python",
   "nbconvert_exporter": "python",
   "pygments_lexer": "ipython3",
   "version": "3.7.4"
  }
 },
 "nbformat": 4,
 "nbformat_minor": 2
}
